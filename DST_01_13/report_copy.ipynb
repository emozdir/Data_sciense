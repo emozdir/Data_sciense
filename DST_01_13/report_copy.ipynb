{
 "cells": [
  {
   "cell_type": "markdown",
   "metadata": {},
   "source": [
    "# Условия задачи"
   ]
  },
  {
   "cell_type": "markdown",
   "metadata": {},
   "source": [
    "Банк обратился за помощью, он хочет разработать кампанию лояльности по удержанию клиентов, для этого необходимо, выяснить основные причины оттока клиентов. Нужно **установить, чем ушедшие клиенты отличаются от лояльных и как между собой связаны различные признаки, определяющие клиентов.**\n",
    "\n",
    "После разведовательного анализа, с целью выявления важных признаков оттока, банк планирует построить модель машинного обучения, которая будет прогнозировать уход клиента.\n",
    "\n",
    "Основная задача - подготовить **мини-отчет о проведанной работе в виде ноутбука**. Отчет должен содержать ответы на список вопросов в виде графика и подробных выводов к ним."
   ]
  },
  {
   "cell_type": "markdown",
   "metadata": {},
   "source": [
    "## Инфомация об исходных данных"
   ]
  },
  {
   "cell_type": "markdown",
   "metadata": {},
   "source": [
    "Данные об оттоке клиентов некоторого банка"
   ]
  },
  {
   "cell_type": "code",
   "execution_count": 1,
   "metadata": {},
   "outputs": [],
   "source": [
    "import warnings\n",
    "warnings.simplefilter(action='ignore', category=FutureWarning)\n",
    "import plotly\n",
    "import pandas as pd\n",
    "import plotly.express as px\n",
    "%matplotlib inline"
   ]
  },
  {
   "cell_type": "code",
   "execution_count": 2,
   "metadata": {},
   "outputs": [],
   "source": [
    "churn_data = pd.read_csv('data/churn.csv')\n",
    "#churn_data.head()\n",
    "#churn_data.info()"
   ]
  },
  {
   "cell_type": "markdown",
   "metadata": {},
   "source": [
    "Столбцы таблицы:\n",
    "\n",
    "1. *RowNumber* - номер строки таблицы (информация лишняя, можем удалить)\n",
    "2. *CustomerId* - идентификатор клиента\n",
    "3. *Surname* - фамилия клиента\n",
    "4. *CreditScore* - кредитный рейтинг (чем выше, тем больше клиент брал кредитов и возвращал их)\n",
    "5. *Geography* - страна клиента (банк международный)\n",
    "6. *Gender* - пол клиента\n",
    "7. *Age* - возраст клиента\n",
    "8. *Tenure* - сколько лет клиент пользуется услугами банка\n",
    "9. *Balance* - баланс на счетах клиента\n",
    "10. *NumOfProducts* - количество услуг банка, которые приобрел клиент\n",
    "11. *HasCrCard* - если у клиента кредитная карта (1 - да, 0 - нет)\n",
    "12. *IsActiveMember* - есть ли у клиента статус активного клиента банка (1 - да, 0 - нет)\n",
    "13. *EstimatedSalary* - предполагаемая заработная плата клиента\n",
    "14. *Exited* - статус лояльности (1 - ушедший клиент, 0 - лояльный клиент)"
   ]
  },
  {
   "cell_type": "markdown",
   "metadata": {},
   "source": [
    "# Отчет"
   ]
  },
  {
   "cell_type": "markdown",
   "metadata": {},
   "source": [
    "## Предварительная обработка данных"
   ]
  },
  {
   "cell_type": "code",
   "execution_count": 3,
   "metadata": {},
   "outputs": [],
   "source": [
    "# Делаю копию, во избежание потери данных\n",
    "churn_df = churn_data.copy(deep=True)\n",
    "\n",
    "# Удаляю лишнее\n",
    "churn_df.drop(['RowNumber'], axis=1, inplace=True)\n",
    "\n",
    "# Перевожу в человекочитаемый формат, некоторые столбцы\n",
    "churn_df['HasCrCard'] = churn_df['HasCrCard'].replace({1: 'yes', 0: 'no'})\n",
    "churn_df['IsActiveMember'] = churn_df['IsActiveMember'].replace({0 : 'Non active', 1 : 'Active'})\n",
    "churn_df['ExitedLoyal'] = churn_df['Exited'].replace({0 : 'Loyal', 1 : 'Exited'}) # оставила object, category дает ошибку на графике\n",
    "\n",
    "# Заменяю типы данных\n",
    "churn_df['CreditScore'] = churn_df['CreditScore'].astype('int16')\n",
    "churn_df['Age'] = churn_df['Age'].astype('int8')\n",
    "churn_df['Exited'] = churn_df['Exited'].astype('int8')\n",
    "\n",
    "cols_to_category = [\n",
    "    'Geography', \n",
    "    'Gender', \n",
    "    'Tenure', \n",
    "    'NumOfProducts', \n",
    "    'HasCrCard', \n",
    "    'IsActiveMember',\n",
    "    'ExitedLoyal'\n",
    "]\n",
    "for col in churn_df.columns:\n",
    "    if col in cols_to_category:\n",
    "        churn_df[col] = churn_df[col].astype('category')\n",
    "        \n",
    "#churn_df.info()"
   ]
  },
  {
   "cell_type": "markdown",
   "metadata": {},
   "source": [
    "## Построение графиков"
   ]
  },
  {
   "cell_type": "markdown",
   "metadata": {},
   "source": [
    "### **Задание 1**"
   ]
  },
  {
   "cell_type": "markdown",
   "metadata": {},
   "source": [
    "Каково соотношение ушедших и лояльных клиентов? Покажите это на графике и дайте комментарий по соотношению."
   ]
  },
  {
   "cell_type": "code",
   "execution_count": 4,
   "metadata": {},
   "outputs": [
    {
     "data": {
      "text/plain": [
       "'data/fig_1.html'"
      ]
     },
     "execution_count": 4,
     "metadata": {},
     "output_type": "execute_result"
    }
   ],
   "source": [
    "fig_1 = px.pie(\n",
    "    data_frame=churn_df,\n",
    "    values=churn_df['ExitedLoyal'].value_counts().values,\n",
    "    names=churn_df['ExitedLoyal'].value_counts().index,\n",
    "    title='Ratio of exited to loyal customers',\n",
    "    width=600,\n",
    "    height=600\n",
    ")\n",
    "\n",
    "fig_1.update_traces(pull = 0.05) # смещение 'пирога'\n",
    "\n",
    "fig_1.update_layout(\n",
    "    legend_title_text='Customers',\n",
    "    legend_orientation=\"h\",\n",
    "    legend_x = 0.25,\n",
    "    title_x = 0.5\n",
    ")\n",
    "\n",
    "#fig_1.show()\n",
    "fig_1.write_html(\"data/fig_1.html\")\n",
    "plotly.offline.plot(fig_1, filename='data/fig_1.html')"
   ]
  },
  {
   "cell_type": "markdown",
   "metadata": {},
   "source": [
    "**Выводы:**\n",
    "Согласно данному графику 20% от всех клиентов, то есть каждый 5 клиент уходит из банка."
   ]
  },
  {
   "cell_type": "markdown",
   "metadata": {},
   "source": [
    "### **Задание 2**"
   ]
  },
  {
   "cell_type": "markdown",
   "metadata": {},
   "source": [
    "Постройте график, показывающий распределение баланса пользователей, у которых на счету больше 2 500 долларов. Опишите распределение и сделайте выводы."
   ]
  },
  {
   "cell_type": "code",
   "execution_count": 5,
   "metadata": {},
   "outputs": [
    {
     "data": {
      "text/plain": [
       "'data/fig_2.html'"
      ]
     },
     "execution_count": 5,
     "metadata": {},
     "output_type": "execute_result"
    }
   ],
   "source": [
    "balans_more_2500 = churn_df[churn_df['Balance'] > 2500]\n",
    "\n",
    "fig_2 = px.histogram(\n",
    "    data_frame=balans_more_2500,\n",
    "    x='Balance',\n",
    "    nbins=25,\n",
    "    marginal=\"box\",\n",
    "    height=600,\n",
    "    width=800\n",
    "    \n",
    ")\n",
    "\n",
    "fig_2.update_layout(\n",
    "    title_text='Balance distribution',  # название графика\n",
    "    yaxis_title_text='Count of customers',\n",
    "    bargap=0.1,  # промежуток между полосами координат соседнего местоположения\n",
    "    title_x=0.5\n",
    ")\n",
    "\n",
    "#fig_2.show()\n",
    "fig_2.write_html(\"data/fig_2.html\")\n",
    "plotly.offline.plot(fig_2, filename='data/fig_2.html')"
   ]
  },
  {
   "cell_type": "markdown",
   "metadata": {},
   "source": [
    "**Выводы:** График показывает 'нормальное' распределение. Основное количество клиентов имеет на счетах от 100 до 140 тыс. доларов. Медианный баланс 120 тыс. доларов. Менее 40 тыс. и более 200 тыс. имеет на счетах не значительное количество клиентов."
   ]
  },
  {
   "cell_type": "markdown",
   "metadata": {},
   "source": [
    "### **Задание 3**"
   ]
  },
  {
   "cell_type": "markdown",
   "metadata": {},
   "source": [
    "Посмотрите на распределение баланса клиента в разрезе признака оттока. Как различаются суммы на накопительном счёте ушедших и лояльных клиентов? Подумайте и напишите, с чем это может быть связано, что может не устраивать ушедших клиентов в банке."
   ]
  },
  {
   "cell_type": "code",
   "execution_count": 6,
   "metadata": {},
   "outputs": [
    {
     "data": {
      "text/plain": [
       "'data/fig_3.html'"
      ]
     },
     "execution_count": 6,
     "metadata": {},
     "output_type": "execute_result"
    }
   ],
   "source": [
    "fig_3 = px.histogram(\n",
    "    data_frame=churn_df,\n",
    "    x='Balance',\n",
    "    color='ExitedLoyal',\n",
    "    nbins=30,\n",
    "    #marginal=\"box\",\n",
    "    color_discrete_sequence=['#EF553B', '#636EFA'], # настройки цвета\n",
    "    height=600,\n",
    "    width=800\n",
    ")\n",
    "\n",
    "fig_3.update_layout(\n",
    "    title_text='Balance distribution of loyal and exited customers',\n",
    "    yaxis_title_text='Count of customers',\n",
    "    bargap=0.05,\n",
    "    title_x=0.48,\n",
    "    legend_title_text='Customers',\n",
    "    legend_x = 0.87 #координаты легенды\n",
    ")\n",
    "#fig_3.show()\n",
    "fig_3.write_html(\"data/fig_3.html\")\n",
    "plotly.offline.plot(fig_3, filename='data/fig_3.html')"
   ]
  },
  {
   "cell_type": "markdown",
   "metadata": {},
   "source": [
    "**Выводы:**\n",
    "1. У 35% клиентов баланс счета находится в пределах 10 тыс. доларов, отток клиентов из этой категории минимальный - менее 15% (около 500 человек из 3500).\n",
    "\n",
    "2. Вторая категория клиентов, имеющие на счетах более 10 тыс. доларов, отчего очевидно являются более важными клиентами, показывают нормальное распределение, в среднем отток клиентов этой категории около 20%, Однако на медианном значении их баланса (110-130 тыс. доларов) наблюдается увеличение оттока клиентов до 27% (244 клиента из 875).\n",
    "\n",
    "3. Клиенты имеющие наибольший баланс (ближе к 250 тыс.) на счетах ушли из банка.\n",
    "\n",
    "Банку необходимо обратить более пристальное внимание на категории клиентов имеющих значительные накопления на счетах."
   ]
  },
  {
   "cell_type": "markdown",
   "metadata": {},
   "source": [
    "### **Задание 4**"
   ]
  },
  {
   "cell_type": "markdown",
   "metadata": {},
   "source": [
    "Посмотрите на распределение возраста в разрезе признака оттока. В какой группе больше потенциальных выбросов? На какую возрастную категорию клиентов стоит обратить внимание банку?"
   ]
  },
  {
   "cell_type": "code",
   "execution_count": 7,
   "metadata": {},
   "outputs": [
    {
     "data": {
      "text/plain": [
       "'data/fig_4.html'"
      ]
     },
     "execution_count": 7,
     "metadata": {},
     "output_type": "execute_result"
    }
   ],
   "source": [
    "fig_4 = px.box(\n",
    "    data_frame=churn_df,\n",
    "    x='Age',\n",
    "    color='ExitedLoyal',\n",
    "    height=600,\n",
    "    width=800,\n",
    "    color_discrete_sequence=['#EF553B', '#636EFA']\n",
    ")\n",
    "\n",
    "fig_4.update_layout(\n",
    "    title_text='Age distribution of loyal and exited customers',  # название графика\n",
    "    title_x=0.5,\n",
    "    legend_title_text='Customers',\n",
    "    legend_x = 0.87,\n",
    "    legend_y = 1\n",
    ")\n",
    "#fig_4.show()\n",
    "fig_4.write_html(\"data/fig_4.html\")\n",
    "plotly.offline.plot(fig_4, filename='data/fig_4.html')"
   ]
  },
  {
   "cell_type": "markdown",
   "metadata": {},
   "source": [
    "**Выводы:**\n",
    "Потенциальных выбросов гораздо больше в группе лояльных клиентов, однако это показывает, что у банка достаточно лояльных клиентов во всех категориях возраста. Основное количество лояльных клиентов гораздо младше (31-41 год) чем основное количество ушедших (38-51 лет), это говорит о том, что Банку имеет смысл уделить больше внимания на группу более старшего рабочего возраста, создав для них более комфортные условия."
   ]
  },
  {
   "cell_type": "markdown",
   "metadata": {},
   "source": [
    "### **Задание 5**"
   ]
  },
  {
   "cell_type": "markdown",
   "metadata": {},
   "source": [
    "Постройте график, который показывает взаимосвязь кредитного рейтинга клиента и его предполагаемой зарплаты. Добавьте расцветку по признаку оттока клиентов. Какова взаимосвязь между признаками? Если не видите явной взаимосвязи, укажите это."
   ]
  },
  {
   "cell_type": "code",
   "execution_count": 8,
   "metadata": {},
   "outputs": [
    {
     "data": {
      "text/plain": [
       "'data/fig_5.html'"
      ]
     },
     "execution_count": 8,
     "metadata": {},
     "output_type": "execute_result"
    }
   ],
   "source": [
    "fig_5 = px.scatter(\n",
    "    data_frame=churn_df,\n",
    "    x='CreditScore',\n",
    "    y='EstimatedSalary',\n",
    "    color='ExitedLoyal',\n",
    "    marginal_x=\"box\", #дополнительные графики по осям\n",
    "    marginal_y=\"box\",\n",
    "    #log_x=True,\n",
    "    height=800,\n",
    "    width=1000,\n",
    "    #color_discrete_sequence=px.colors.qualitative.Plotly\n",
    "    color_discrete_sequence=['#EF553B', '#636EFA']\n",
    ")\n",
    "fig_5.update_layout(\n",
    "    title_text='Ratio of credit score and salaries',  # название графика\n",
    "    yaxis_title_text='Estimated Salary',\n",
    "    xaxis_title_text='Credit Score',\n",
    "    #bargap=0.1,\n",
    "    title_x=0.25,\n",
    "    legend_title_text='Customers',\n",
    "    legend_x = 0.8,\n",
    "    legend_y = 0.9,\n",
    ")\n",
    "\n",
    "#fig_5.show()\n",
    "fig_5.write_html(\"data/fig_5.html\")\n",
    "plotly.offline.plot(fig_5, filename='data/fig_5.html')"
   ]
  },
  {
   "cell_type": "markdown",
   "metadata": {},
   "source": [
    "**Выводы:** Взаимосвязь между уровнем зарабатной платы и кредитным рейтингом отсуствует. В разрезе признаков оттока клиентов, виден незначительный сдвиг, лояльные клиенты как правило имеют кредитный рейтинг выше 400 пп., все клиенты с рейтингом ниже 400 - ушедшие клиенты. С максимальным кредитным рейтингом - 850 пп. большая часть клиентов - лояльна."
   ]
  },
  {
   "cell_type": "markdown",
   "metadata": {},
   "source": [
    "### **Задание 6**"
   ]
  },
  {
   "cell_type": "markdown",
   "metadata": {},
   "source": [
    "6. Кто чаще уходит, мужчины или женщины? Постройте график, который иллюстрирует это."
   ]
  },
  {
   "cell_type": "code",
   "execution_count": 9,
   "metadata": {},
   "outputs": [],
   "source": [
    "# Определим количество лояльных и ушедших мужчин и женщин\n",
    "group_gender = churn_df.groupby(by='Gender')['ExitedLoyal'].value_counts()\n",
    "# переопределим в DF\n",
    "group_gender_df = pd.DataFrame(group_gender)\n",
    "\n",
    "# Определяю это же соотношение в %\n",
    "percent_for_exited = churn_df.groupby(by=['Gender'])['Exited'].mean() #для ушедших\n",
    "percent_for_loyal = 1-percent_for_exited # для лояльных\n",
    "group_gender_p = pd.concat(\n",
    "    [percent_for_exited, percent_for_loyal], \n",
    "    axis=0\n",
    "    ).sort_values().apply(lambda x: f'{x:.1%}') #объединяю, сортирую, форматирую\n",
    "\n",
    "#Соединяю все данные в нужную мне таблицу\n",
    "group_gender_df = group_gender_df.sort_values(by=['count'])\n",
    "group_gender_df['percent'] = group_gender_p.values\n",
    "group_gender_df.reset_index(inplace=True, level = 'ExitedLoyal')\n",
    "group_gender_df = group_gender_df.sort_values(by=['Gender', 'count'])\n",
    "\n",
    "#display(group_gender_df)\n"
   ]
  },
  {
   "cell_type": "code",
   "execution_count": 10,
   "metadata": {},
   "outputs": [
    {
     "data": {
      "text/plain": [
       "'data/fig_6.html'"
      ]
     },
     "execution_count": 10,
     "metadata": {},
     "output_type": "execute_result"
    }
   ],
   "source": [
    "fig_6 = px.bar(\n",
    "    data_frame=group_gender_df,\n",
    "    x=group_gender_df.index,\n",
    "    y='count',\n",
    "    color='ExitedLoyal',\n",
    "    title='Ratio of men and women among еxited clients',\n",
    "    color_discrete_sequence=['#EF553B', '#636EFA'],\n",
    "    text=group_gender_df['percent'],\n",
    "    height=600,\n",
    "    width=800,\n",
    ")\n",
    "\n",
    "fig_6.update_layout(\n",
    "    yaxis_title_text='Count of customers',\n",
    "    xaxis_title_text='Gender of customers',\n",
    "    title_x = 0.5,\n",
    "    legend_title_text='Customers'\n",
    ")\n",
    "\n",
    "#fig_6.show()\n",
    "fig_6.write_html(\"data/fig_6.html\")\n",
    "plotly.offline.plot(fig_6, filename='data/fig_6.html')"
   ]
  },
  {
   "cell_type": "markdown",
   "metadata": {},
   "source": [
    "**Выводы:** В процентном соотношении женщины уходят из банка чаще чем мужчины (примерно на 10%), однако в абсолютном значении мужчины чаще являются клиентами банка, соответственно количество ушедших мужчин и женщин примерно одинаково.\n",
    "Банку необходимо продумать системы лояльности для клиентов женского пола, не только для их \"удержания\", но и привлечения в банк."
   ]
  },
  {
   "cell_type": "markdown",
   "metadata": {},
   "source": [
    "### **Задание 7**"
   ]
  },
  {
   "cell_type": "markdown",
   "metadata": {},
   "source": [
    "Как отток клиентов зависит от числа приобретённых у банка услуг? Для ответа на этот вопрос постройте многоуровневую столбчатую диаграмму."
   ]
  },
  {
   "cell_type": "code",
   "execution_count": 11,
   "metadata": {},
   "outputs": [],
   "source": [
    "# Группирую данные по кол-ву приобретенных продуктов и оттоку\n",
    "group_prod = pd.DataFrame(churn_df.groupby('NumOfProducts')['ExitedLoyal'].value_counts())\n",
    "group_prod.reset_index(inplace=True) #сбрасываю мультииндекс\n",
    "\n",
    "#Добавляю столбец с данными в %\n",
    "group_prod['percent'] = (group_prod['count'] / group_prod['count'].sum()).apply(lambda x: f'{x:.1%}')\n",
    "\n",
    "group_prod= group_prod.sort_values(by=['NumOfProducts', 'count'])\n",
    "#display(group_prod)"
   ]
  },
  {
   "cell_type": "code",
   "execution_count": 12,
   "metadata": {},
   "outputs": [
    {
     "data": {
      "text/plain": [
       "'data/fig_7.html'"
      ]
     },
     "execution_count": 12,
     "metadata": {},
     "output_type": "execute_result"
    }
   ],
   "source": [
    "fig_7 = px.bar(\n",
    "    data_frame=group_prod,\n",
    "    x='NumOfProducts',\n",
    "    y='count',\n",
    "    color='ExitedLoyal',\n",
    "    # цвет по категории\n",
    "    color_discrete_map={\n",
    "        'Exited': '#EF553B',\n",
    "        'Loyal': '#636EFA'\n",
    "    },\n",
    "    text='percent', # ссылка на столбец с подписью\n",
    "    barmode='group', # метод отображения group-рядом, знач. не суммирует\n",
    "    height=600,\n",
    "    width=800,\n",
    ")\n",
    "fig_7.update_layout(\n",
    "    title_text='Influence of the number of products on client departure',\n",
    "    yaxis_title_text='Count of customers',\n",
    "    xaxis_title_text='Number of bank products',\n",
    "    title_x=0.48,\n",
    "    legend_title_text='Customers',\n",
    "    legend_x = 0.87,\n",
    "    legend_y = 1\n",
    "    \n",
    ")\n",
    "fig_7.update_traces(textposition='outside')\n",
    "\n",
    "#fig_7.show()\n",
    "fig_7.write_html(\"data/fig_7.html\")\n",
    "plotly.offline.plot(fig_7, filename='data/fig_7.html')"
   ]
  },
  {
   "cell_type": "markdown",
   "metadata": {},
   "source": [
    "**Выводы:** Основное количество лояльных клиентов банка пользуется не более двумя услугами банка. \n",
    "Ни одного лояльного клиента не воспользовалась 4 услугами банка, 1% воспользовавшихся - ушедшие клиенты. \n",
    "В целом более 2 услуг использует менее 4% клиентов банка. \n",
    "Основное количество ушедших клиентов, не обращается в банк повторно (подавляющее число клиентов ушло после одной преобретенной услуги)."
   ]
  },
  {
   "cell_type": "markdown",
   "metadata": {},
   "source": [
    "### **Задание 8**"
   ]
  },
  {
   "cell_type": "markdown",
   "metadata": {},
   "source": [
    "Как влияет наличие статуса активного клиента на отток клиентов? Постройте диаграмму, иллюстрирующую это. Что бы вы предложили банку, чтобы уменьшить отток клиентов среди неактивных?"
   ]
  },
  {
   "cell_type": "code",
   "execution_count": 13,
   "metadata": {},
   "outputs": [],
   "source": [
    "# Группирую данные по статусу активности клиента и оттоку\n",
    "group_active = pd.DataFrame(churn_df.groupby('IsActiveMember')['ExitedLoyal'].value_counts())\n",
    "group_active.reset_index(inplace=True)\n",
    "\n",
    "# Добавляю данные в долях\n",
    "group_active['percent'] = churn_df.groupby(by='IsActiveMember')[['ExitedLoyal']].value_counts(normalize=True).values\n",
    "group_active['percent'] = group_active['percent'].apply(lambda x: f'{x:.1%}')\n",
    "\n",
    "group_active = group_active.sort_values(by=['IsActiveMember', 'count'])\n",
    "#display(group_active)"
   ]
  },
  {
   "cell_type": "code",
   "execution_count": 14,
   "metadata": {},
   "outputs": [
    {
     "data": {
      "text/plain": [
       "'data/fig_8.html'"
      ]
     },
     "execution_count": 14,
     "metadata": {},
     "output_type": "execute_result"
    }
   ],
   "source": [
    "fig_8 = px.bar(\n",
    "    data_frame=group_active,\n",
    "    x='IsActiveMember',\n",
    "    y='count',\n",
    "    color='ExitedLoyal',\n",
    "    color_discrete_map={\n",
    "        'Exited': '#EF553B',\n",
    "        'Loyal': '#636EFA'\n",
    "    },\n",
    "    text='percent',\n",
    "    #barmode='group',\n",
    "    height=600,\n",
    "    width=800,\n",
    ")\n",
    "fig_8.update_layout(\n",
    "    title_text='Influence of activity status on client departure',\n",
    "    yaxis_title_text='Count of customers',\n",
    "    xaxis_title_text='Customer status',\n",
    "    title_x=0.5,\n",
    "    legend_title_text='Castomer',\n",
    ")\n",
    "#fig_8.show()\n",
    "fig_8.write_html(\"data/fig_8.html\")\n",
    "plotly.offline.plot(fig_8, filename='data/fig_8.html')"
   ]
  },
  {
   "cell_type": "markdown",
   "metadata": {},
   "source": [
    "**Выводы:** В абсолютном значении, количество активных и не активных клиентов примерно одинаково. \n",
    "В процентном отношении очевидно, что не активные клиенты уходят из банка в 2 раза чаще активных. \n",
    "Соответственно, банку необходимо принять меры по стимулируванию не активных клиентов, побуждая пользоваться счетами чаще (программы лояльности, кэш-бэк)."
   ]
  },
  {
   "cell_type": "markdown",
   "metadata": {},
   "source": [
    "### **Задание 9**"
   ]
  },
  {
   "cell_type": "markdown",
   "metadata": {},
   "source": [
    "В какой стране доля ушедших клиентов больше? Постройте тепловую картограмму, которая покажет это соотношение на карте мира. Предположите, с чем это может быть связано."
   ]
  },
  {
   "cell_type": "code",
   "execution_count": 15,
   "metadata": {},
   "outputs": [
    {
     "data": {
      "text/plain": [
       "'data/fig_9.html'"
      ]
     },
     "execution_count": 15,
     "metadata": {},
     "output_type": "execute_result"
    }
   ],
   "source": [
    "#Расчитаем долю ушудших клиентов по странам\n",
    "choropleth_data = churn_data.groupby(by='Geography')['Exited'].mean().round(2) * 100\n",
    "\n",
    "fig_9 = px.choropleth(\n",
    "    data_frame=choropleth_data,\n",
    "    locations=choropleth_data.index,\n",
    "    locationmode='country names',\n",
    "    color='Exited',\n",
    "    height=500,\n",
    "    width=800,\n",
    "    range_color=[0,100], #диапазон цвета\n",
    "    color_continuous_scale=['#636EFA', '#EF553B']\n",
    ")\n",
    "fig_9.update_layout(\n",
    "    title_text='Cartogram of exited customers',\n",
    "    title_x=0.5\n",
    ")\n",
    "#fig_9.show()\n",
    "fig_9.write_html(\"data/fig_9.html\")\n",
    "plotly.offline.plot(fig_9, filename='data/fig_9.html')"
   ]
  },
  {
   "cell_type": "code",
   "execution_count": 16,
   "metadata": {},
   "outputs": [
    {
     "data": {
      "text/html": [
       "<div>\n",
       "<style scoped>\n",
       "    .dataframe tbody tr th:only-of-type {\n",
       "        vertical-align: middle;\n",
       "    }\n",
       "\n",
       "    .dataframe tbody tr th {\n",
       "        vertical-align: top;\n",
       "    }\n",
       "\n",
       "    .dataframe thead th {\n",
       "        text-align: right;\n",
       "    }\n",
       "</style>\n",
       "<table border=\"1\" class=\"dataframe\">\n",
       "  <thead>\n",
       "    <tr style=\"text-align: right;\">\n",
       "      <th></th>\n",
       "      <th>RowNumber</th>\n",
       "      <th>CustomerId</th>\n",
       "      <th>CreditScore</th>\n",
       "      <th>Age</th>\n",
       "      <th>Tenure</th>\n",
       "      <th>Balance</th>\n",
       "      <th>NumOfProducts</th>\n",
       "      <th>HasCrCard</th>\n",
       "      <th>IsActiveMember</th>\n",
       "      <th>EstimatedSalary</th>\n",
       "      <th>Exited</th>\n",
       "    </tr>\n",
       "    <tr>\n",
       "      <th>Geography</th>\n",
       "      <th></th>\n",
       "      <th></th>\n",
       "      <th></th>\n",
       "      <th></th>\n",
       "      <th></th>\n",
       "      <th></th>\n",
       "      <th></th>\n",
       "      <th></th>\n",
       "      <th></th>\n",
       "      <th></th>\n",
       "      <th></th>\n",
       "    </tr>\n",
       "  </thead>\n",
       "  <tbody>\n",
       "    <tr>\n",
       "      <th>France</th>\n",
       "      <td>5025.23</td>\n",
       "      <td>15690650.11</td>\n",
       "      <td>649.67</td>\n",
       "      <td>38.51</td>\n",
       "      <td>5.00</td>\n",
       "      <td>62092.64</td>\n",
       "      <td>1.53</td>\n",
       "      <td>0.71</td>\n",
       "      <td>0.52</td>\n",
       "      <td>99899.18</td>\n",
       "      <td>0.16</td>\n",
       "    </tr>\n",
       "    <tr>\n",
       "      <th>Germany</th>\n",
       "      <td>5000.28</td>\n",
       "      <td>15690555.65</td>\n",
       "      <td>651.45</td>\n",
       "      <td>39.77</td>\n",
       "      <td>5.01</td>\n",
       "      <td>119730.12</td>\n",
       "      <td>1.52</td>\n",
       "      <td>0.71</td>\n",
       "      <td>0.50</td>\n",
       "      <td>101113.44</td>\n",
       "      <td>0.32</td>\n",
       "    </tr>\n",
       "    <tr>\n",
       "      <th>Spain</th>\n",
       "      <td>4950.67</td>\n",
       "      <td>15691918.41</td>\n",
       "      <td>651.33</td>\n",
       "      <td>38.89</td>\n",
       "      <td>5.03</td>\n",
       "      <td>61818.15</td>\n",
       "      <td>1.54</td>\n",
       "      <td>0.69</td>\n",
       "      <td>0.53</td>\n",
       "      <td>99440.57</td>\n",
       "      <td>0.17</td>\n",
       "    </tr>\n",
       "  </tbody>\n",
       "</table>\n",
       "</div>"
      ],
      "text/plain": [
       "           RowNumber   CustomerId  CreditScore    Age  Tenure    Balance  \\\n",
       "Geography                                                                  \n",
       "France       5025.23  15690650.11       649.67  38.51    5.00   62092.64   \n",
       "Germany      5000.28  15690555.65       651.45  39.77    5.01  119730.12   \n",
       "Spain        4950.67  15691918.41       651.33  38.89    5.03   61818.15   \n",
       "\n",
       "           NumOfProducts  HasCrCard  IsActiveMember  EstimatedSalary  Exited  \n",
       "Geography                                                                     \n",
       "France              1.53       0.71            0.52         99899.18    0.16  \n",
       "Germany             1.52       0.71            0.50        101113.44    0.32  \n",
       "Spain               1.54       0.69            0.53         99440.57    0.17  "
      ]
     },
     "metadata": {},
     "output_type": "display_data"
    }
   ],
   "source": [
    "display(churn_data.groupby(by='Geography').mean(numeric_only=True).round(2))\n",
    "#churn_data['Geography'].value_counts()"
   ]
  },
  {
   "cell_type": "markdown",
   "metadata": {},
   "source": [
    "**Выводы:** В Германии доля ушедших клиентов наибольшая - составляет 32%. \n",
    "\n",
    "Единственную взаимосвязь которую можно проследить из таблицы средних значений по странам, это средний уровень баланса счета. В Германии баланс на счетах клиентов в среднем выше в 2 раза чем в других странах. Исходя из этого можно предположить, что так как клиенты \"более богаты\", у них и требования к банку повышенные. Или у банка не достаточно программ для привлечения \"более бедных\" клиентов."
   ]
  },
  {
   "cell_type": "markdown",
   "metadata": {},
   "source": [
    "### **Задание 10**"
   ]
  },
  {
   "cell_type": "markdown",
   "metadata": {},
   "source": [
    "Переведите числовой признак CreditScore в категориальный. Для этого воспользуйтесь функцией get_credit_score_cat(), которая приведена ниже. Примените её к столбцу CreditScore и создайте новый признак CreditScoreCat — категории кредитного рейтинга.\n",
    "\n",
    "Постройте сводную таблицу, строками которой являются категории кредитного рейтинга (CreditScoreCat), а столбцами — количество лет, в течение которых клиент пользуется услугами банка (Tenure). В ячейках сводной таблицы должно находиться среднее по признаку оттока (Exited) — доля ушедших пользователей.\n",
    "\n",
    "На основе полученной сводной таблицы постройте тепловую карту с аннотацией. Найдите на тепловой карте категории клиентов, которые уходят чаще всего."
   ]
  },
  {
   "cell_type": "code",
   "execution_count": 17,
   "metadata": {},
   "outputs": [],
   "source": [
    "def get_credit_score_cat(credit_score):\n",
    "    if credit_score >= 300 and credit_score < 500:\n",
    "        return \"Very_Poor\"\n",
    "    elif credit_score >= 500 and credit_score < 601:\n",
    "        return \"Poor\"\n",
    "    elif credit_score >= 601 and credit_score < 661:\n",
    "        return \"Fair\"\n",
    "    elif credit_score >= 661 and credit_score < 781:\n",
    "        return \"Good\"\n",
    "    elif credit_score >= 781 and credit_score < 851:\n",
    "        return \"Excellent\"\n",
    "    elif credit_score >= 851:\n",
    "        return \"Top\"\n",
    "    elif credit_score < 300:\n",
    "        return \"Deep\"\n",
    "    \n",
    "churn_data['CreditScoreCat'] = churn_data['CreditScore'].apply(get_credit_score_cat)\n",
    "\n",
    "pivot = churn_data.pivot_table(\n",
    "    values='Exited',\n",
    "    index='CreditScoreCat',\n",
    "    columns='Tenure'\n",
    ").round(3) * 100\n",
    "\n",
    "#display(pivot)"
   ]
  },
  {
   "cell_type": "code",
   "execution_count": 19,
   "metadata": {},
   "outputs": [],
   "source": [
    "fig_10 = px.imshow(\n",
    "    pivot, \n",
    "    text_auto=True, \n",
    "    aspect=\"auto\", #позволяет растянуть квадраты\n",
    "    range_color=[0,100],\n",
    "    labels=dict(\n",
    "        x=\"Tenure, year\", \n",
    "        y=\"Credit Score Category\", \n",
    "        color=\"Exited, %\"\n",
    "    ),\n",
    "    x=['0', '1', '2', '3', '4', '5', '6', '7', '8', '9', '10'],\n",
    "    height=600,\n",
    "    width=800,\n",
    "    color_continuous_scale=['white', px.colors.qualitative.Dark24[23]] #ссылка на палитру цветов\n",
    ")\n",
    "\n",
    "fig_10.update_layout(\n",
    "    title_text='Influence of credit rating, tenure on customers exiting.',\n",
    "    title_x=0.5,\n",
    ")\n",
    "#fig_10.show()\n",
    "fig_10.write_html(\"data/fig_10.html\")\n",
    "fig_10.write_image(\"data/fig_10.png\")"
   ]
  },
  {
   "cell_type": "markdown",
   "metadata": {},
   "source": [
    "**Выводы:** Чаще всего банк покидают клиенты категории \"Очень бедные\", наибольшая частота зафиксирована, у клиентов, которые не были клиентами банка и года - 44%, и наоборот у постоянных клиентов (10 лет) - 33%. \n",
    "Достаточно часто банк покидают и клиенты с превосходной кредитной историей, причем отток зафиксирован как у постоянных клиентов (25-27%), так и у новых клиентов 21-28%. "
   ]
  }
 ],
 "metadata": {
  "kernelspec": {
   "display_name": "Python 3",
   "language": "python",
   "name": "python3"
  },
  "language_info": {
   "codemirror_mode": {
    "name": "ipython",
    "version": 3
   },
   "file_extension": ".py",
   "mimetype": "text/x-python",
   "name": "python",
   "nbconvert_exporter": "python",
   "pygments_lexer": "ipython3",
   "version": "3.9.10"
  }
 },
 "nbformat": 4,
 "nbformat_minor": 2
}
